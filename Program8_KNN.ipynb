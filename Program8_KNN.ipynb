{
 "cells": [
  {
   "cell_type": "code",
   "execution_count": 1,
   "id": "0a012086",
   "metadata": {},
   "outputs": [],
   "source": [
    "from sklearn.model_selection import train_test_split\n",
    "from sklearn.neighbors import KNeighborsClassifier\n",
    "from sklearn import datasets"
   ]
  },
  {
   "cell_type": "code",
   "execution_count": 2,
   "id": "0bb26671",
   "metadata": {},
   "outputs": [],
   "source": [
    "iris = datasets.load_iris()\n",
    "xtrain,xtest,ytrain,ytest=train_test_split(iris.data,iris.target,test_size=0.1)\n",
    "\n",
    "model=KNeighborsClassifier(n_neighbors=1)\n",
    "model.fit(xtrain,ytrain)\n",
    "ypred=model.predict(xtest)"
   ]
  },
  {
   "cell_type": "code",
   "execution_count": 5,
   "id": "b3b4f9ae",
   "metadata": {},
   "outputs": [
    {
     "name": "stdout",
     "output_type": "stream",
     "text": [
      "Sample: [4.8 3.1 1.6 0.2] Actual: 0 Predicted: 0\n",
      "Sample: [5.6 2.7 4.2 1.3] Actual: 1 Predicted: 1\n",
      "Sample: [6.9 3.1 5.4 2.1] Actual: 2 Predicted: 2\n",
      "Sample: [5.2 2.7 3.9 1.4] Actual: 1 Predicted: 1\n",
      "Sample: [6.3 3.3 6.  2.5] Actual: 2 Predicted: 2\n",
      "Sample: [6.9 3.2 5.7 2.3] Actual: 2 Predicted: 2\n",
      "Sample: [6.4 2.9 4.3 1.3] Actual: 1 Predicted: 1\n",
      "Sample: [7.2 3.2 6.  1.8] Actual: 2 Predicted: 2\n",
      "Sample: [5.2 3.4 1.4 0.2] Actual: 0 Predicted: 0\n",
      "Sample: [6.7 3.  5.2 2.3] Actual: 2 Predicted: 2\n",
      "Sample: [5.  3.4 1.6 0.4] Actual: 0 Predicted: 0\n",
      "Sample: [4.6 3.6 1.  0.2] Actual: 0 Predicted: 0\n",
      "Sample: [6.9 3.1 5.1 2.3] Actual: 2 Predicted: 2\n",
      "Sample: [6.5 3.  5.8 2.2] Actual: 2 Predicted: 2\n",
      "Sample: [5.8 2.7 3.9 1.2] Actual: 1 Predicted: 1\n",
      "Accuracy: 1.0\n"
     ]
    }
   ],
   "source": [
    "for i in range(len(ypred)):\n",
    "    print(\"Sample:\",str(xtest[i]), \"Actual:\",str(ytest[i]), \"Predicted:\",str(ypred[i]))\n",
    "print(\"Accuracy:\", model.score(xtest,ytest))"
   ]
  },
  {
   "cell_type": "code",
   "execution_count": null,
   "id": "8c72a46f",
   "metadata": {},
   "outputs": [],
   "source": []
  }
 ],
 "metadata": {
  "kernelspec": {
   "display_name": "Python 3 (ipykernel)",
   "language": "python",
   "name": "python3"
  },
  "language_info": {
   "codemirror_mode": {
    "name": "ipython",
    "version": 3
   },
   "file_extension": ".py",
   "mimetype": "text/x-python",
   "name": "python",
   "nbconvert_exporter": "python",
   "pygments_lexer": "ipython3",
   "version": "3.9.7"
  }
 },
 "nbformat": 4,
 "nbformat_minor": 5
}
