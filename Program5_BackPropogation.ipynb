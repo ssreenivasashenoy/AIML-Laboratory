{
 "cells": [
  {
   "cell_type": "code",
   "execution_count": 1,
   "id": "9700246d",
   "metadata": {},
   "outputs": [],
   "source": [
    "import numpy as np\n",
    "X = np.array(([2,9],[1,5],[3,6]), dtype=float)\n",
    "y = np.array(([92], [86],[89]), dtype=float)\n",
    "X = X / np.amax(X, axis=0)\n",
    "y = y / 100"
   ]
  },
  {
   "cell_type": "code",
   "execution_count": 2,
   "id": "2fed327c",
   "metadata": {},
   "outputs": [],
   "source": [
    "def sigmoid(x):\n",
    "    return 1 / (1 + np.exp(-x))\n",
    "\n",
    "def derivative_sigmoid(x):\n",
    "    return x * (1-x)\n",
    "\n",
    "def uniform(s):\n",
    "    return np.random.uniform(size=s)"
   ]
  },
  {
   "cell_type": "code",
   "execution_count": 3,
   "id": "359e20b2",
   "metadata": {},
   "outputs": [],
   "source": [
    "epoch = 1000\n",
    "lr = 0.1\n",
    "\n",
    "ipl = 2\n",
    "hdl = 3\n",
    "opl = 1\n",
    "\n",
    "wh = uniform((ipl,hdl))\n",
    "bh = uniform((1,hdl))\n",
    "wout = uniform((hdl,opl))\n",
    "bout = uniform((1,opl))"
   ]
  },
  {
   "cell_type": "code",
   "execution_count": 4,
   "id": "8c341547",
   "metadata": {},
   "outputs": [],
   "source": [
    "for i in range(epoch):\n",
    "    h_ip = np.dot(X,wh) +bh\n",
    "    h_act = sigmoid(h_ip)\n",
    "    \n",
    "    o_ip = np.dot(h_ip, wout)\n",
    "    output = sigmoid(o_ip)\n",
    "    \n",
    "    dop = (y-output) * derivative_sigmoid(output)\n",
    "    dhd = dop.dot(wout.T) * derivative_sigmoid(h_act)\n",
    "    \n",
    "    wout += h_act.T.dot(dop)*lr\n",
    "    wh += X.T.dot(dhd) *lr"
   ]
  },
  {
   "cell_type": "code",
   "execution_count": 5,
   "id": "1b4dbd39",
   "metadata": {},
   "outputs": [
    {
     "name": "stdout",
     "output_type": "stream",
     "text": [
      "Input : [[0.66666667 1.        ]\n",
      " [0.33333333 0.55555556]\n",
      " [1.         0.66666667]]\n",
      "Actual OP: [[0.92]\n",
      " [0.86]\n",
      " [0.89]]\n",
      "Predicted OP: [[0.92168362]\n",
      " [0.84528096]\n",
      " [0.91021581]]\n"
     ]
    }
   ],
   "source": [
    "print(\"Input :\", str(X))\n",
    "print(\"Actual OP:\", str(y))\n",
    "print(\"Predicted OP:\", str(output))"
   ]
  },
  {
   "cell_type": "code",
   "execution_count": null,
   "id": "32c0c72a",
   "metadata": {},
   "outputs": [],
   "source": []
  }
 ],
 "metadata": {
  "kernelspec": {
   "display_name": "Python 3 (ipykernel)",
   "language": "python",
   "name": "python3"
  },
  "language_info": {
   "codemirror_mode": {
    "name": "ipython",
    "version": 3
   },
   "file_extension": ".py",
   "mimetype": "text/x-python",
   "name": "python",
   "nbconvert_exporter": "python",
   "pygments_lexer": "ipython3",
   "version": "3.9.7"
  }
 },
 "nbformat": 4,
 "nbformat_minor": 5
}
