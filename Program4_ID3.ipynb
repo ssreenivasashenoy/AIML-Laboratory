{
 "cells": [
  {
   "cell_type": "code",
   "execution_count": 8,
   "id": "1b9fe377",
   "metadata": {},
   "outputs": [
    {
     "name": "stdout",
     "output_type": "stream",
     "text": [
      "List of attributes\n",
      "    Outlook  Temperature  Humidity  Wind  Answer\n",
      "0         0            0         0     0       0\n",
      "1         0            0         0     1       0\n",
      "2         1            0         0     0       1\n",
      "3         2            1         0     0       1\n",
      "4         2            2         1     0       1\n",
      "5         2            2         1     1       0\n",
      "6         1            2         1     1       1\n",
      "7         0            1         0     0       0\n",
      "8         0            2         1     0       1\n",
      "9         2            1         1     0       1\n",
      "10        0            1         1     1       1\n",
      "11        1            1         0     1       1\n",
      "12        1            0         1     0       1\n",
      "13        2            1         0     1       0\n",
      "\n",
      "The tree structure\n",
      "{'Outlook': {0: {'Humidity': {0: 0, 1: 1}}, 1: 1, 2: {'Wind': {0: 1, 1: 0}}}}\n"
     ]
    }
   ],
   "source": [
    "import pandas as pd\n",
    "from pprint import pprint\n",
    "from sklearn.feature_selection import mutual_info_classif\n",
    "from collections import Counter\n",
    "\n",
    "def id3(data, target, attribute, default=None):\n",
    "    c=Counter(x for x in data[target])\n",
    "    if len(c)==1:\n",
    "        return next(iter(c))\n",
    "    \n",
    "    elif data.empty or (not attribute):\n",
    "         return default\n",
    "\n",
    "    else:\n",
    "        gain = mutual_info_classif(data[attribute],data[target],discrete_features=True)\n",
    "        im=gain.tolist().index(max(gain))\n",
    "        best_a=attribute[im]\n",
    "        tree={best_a:{}}\n",
    "        remaining_attribute=[i for i in attribute if i!=best_a]\n",
    "        \n",
    "        for a_val, data_subset in data.groupby(best_a):\n",
    "            subtree=id3(data_subset, target, remaining_attribute,default)\n",
    "            tree[best_a][a_val]=subtree\n",
    "        \n",
    "        return tree\n",
    "    \n",
    "\n",
    "data=pd.read_csv(\"data3.csv\")\n",
    "\n",
    "attribute=data.columns.tolist()\n",
    "print(\"List of attributes\")\n",
    "\n",
    "attribute.remove(\"Answer\")\n",
    "\n",
    "for colname in data.select_dtypes(\"object\"):\n",
    "    data[colname], _ = data[colname].factorize()\n",
    "    \n",
    "print(data)\n",
    "\n",
    "tree= id3(data,\"Answer\", attribute)\n",
    "print(\"\\nThe tree structure\")\n",
    "pprint(tree)"
   ]
  },
  {
   "cell_type": "code",
   "execution_count": null,
   "id": "760769b8",
   "metadata": {},
   "outputs": [],
   "source": []
  }
 ],
 "metadata": {
  "kernelspec": {
   "display_name": "Python 3 (ipykernel)",
   "language": "python",
   "name": "python3"
  },
  "language_info": {
   "codemirror_mode": {
    "name": "ipython",
    "version": 3
   },
   "file_extension": ".py",
   "mimetype": "text/x-python",
   "name": "python",
   "nbconvert_exporter": "python",
   "pygments_lexer": "ipython3",
   "version": "3.9.7"
  }
 },
 "nbformat": 4,
 "nbformat_minor": 5
}
